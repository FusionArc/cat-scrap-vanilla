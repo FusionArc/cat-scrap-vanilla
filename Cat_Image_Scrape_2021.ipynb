{
  "nbformat": 4,
  "nbformat_minor": 0,
  "metadata": {
    "colab": {
      "name": "Cat-Image-Scrape-2021.ipynb",
      "provenance": [],
      "collapsed_sections": [],
      "mount_file_id": "19ruOB0ro8uwQOAM37c04dBRjrR6l9YGo",
      "authorship_tag": "ABX9TyNNEwNeiN7nr5vaHkRXM3sf",
      "include_colab_link": true
    },
    "kernelspec": {
      "name": "python3",
      "display_name": "Python 3"
    }
  },
  "cells": [
    {
      "cell_type": "markdown",
      "metadata": {
        "id": "view-in-github",
        "colab_type": "text"
      },
      "source": [
        "<a href=\"https://colab.research.google.com/github/FusionArc/cat-scrap-vanilla/blob/master/Cat_Image_Scrape_2021.ipynb\" target=\"_parent\"><img src=\"https://colab.research.google.com/assets/colab-badge.svg\" alt=\"Open In Colab\"/></a>"
      ]
    },
    {
      "cell_type": "code",
      "metadata": {
        "id": "tce-5flE-Cnr",
        "colab": {
          "base_uri": "https://localhost:8080/"
        },
        "outputId": "4860f464-9035-4f06-b1b0-53f1719ec4a7"
      },
      "source": [
        "import os\n",
        "import requests\n",
        "import pandas as pd\n",
        "import json\n",
        "import shutil\n",
        "\n",
        "!pip install requests-html\n",
        "from requests_html import HTML, HTMLSession"
      ],
      "execution_count": 1,
      "outputs": [
        {
          "output_type": "stream",
          "text": [
            "/usr/local/lib/python3.6/dist-packages/requests/__init__.py:91: RequestsDependencyWarning: urllib3 (1.26.2) or chardet (3.0.4) doesn't match a supported version!\n",
            "  RequestsDependencyWarning)\n"
          ],
          "name": "stderr"
        },
        {
          "output_type": "stream",
          "text": [
            "Requirement already satisfied: requests-html in /usr/local/lib/python3.6/dist-packages (0.10.0)\n",
            "Requirement already satisfied: pyquery in /usr/local/lib/python3.6/dist-packages (from requests-html) (1.4.3)\n",
            "Requirement already satisfied: fake-useragent in /usr/local/lib/python3.6/dist-packages (from requests-html) (0.1.11)\n",
            "Requirement already satisfied: pyppeteer>=0.0.14 in /usr/local/lib/python3.6/dist-packages (from requests-html) (0.2.2)\n",
            "Requirement already satisfied: w3lib in /usr/local/lib/python3.6/dist-packages (from requests-html) (1.22.0)\n",
            "Requirement already satisfied: bs4 in /usr/local/lib/python3.6/dist-packages (from requests-html) (0.0.1)\n",
            "Requirement already satisfied: parse in /usr/local/lib/python3.6/dist-packages (from requests-html) (1.18.0)\n",
            "Requirement already satisfied: requests in /usr/local/lib/python3.6/dist-packages (from requests-html) (2.23.0)\n",
            "Requirement already satisfied: lxml>=2.1 in /usr/local/lib/python3.6/dist-packages (from pyquery->requests-html) (4.2.6)\n",
            "Requirement already satisfied: cssselect>0.7.9 in /usr/local/lib/python3.6/dist-packages (from pyquery->requests-html) (1.1.0)\n",
            "Requirement already satisfied: tqdm<5.0.0,>=4.42.1 in /usr/local/lib/python3.6/dist-packages (from pyppeteer>=0.0.14->requests-html) (4.54.0)\n",
            "Requirement already satisfied: urllib3<2.0.0,>=1.25.8 in /usr/local/lib/python3.6/dist-packages (from pyppeteer>=0.0.14->requests-html) (1.26.2)\n",
            "Requirement already satisfied: pyee<8.0.0,>=7.0.1 in /usr/local/lib/python3.6/dist-packages (from pyppeteer>=0.0.14->requests-html) (7.0.4)\n",
            "Requirement already satisfied: websockets<9.0,>=8.1 in /usr/local/lib/python3.6/dist-packages (from pyppeteer>=0.0.14->requests-html) (8.1)\n",
            "Requirement already satisfied: appdirs<2.0.0,>=1.4.3 in /usr/local/lib/python3.6/dist-packages (from pyppeteer>=0.0.14->requests-html) (1.4.4)\n",
            "Requirement already satisfied: six>=1.4.1 in /usr/local/lib/python3.6/dist-packages (from w3lib->requests-html) (1.15.0)\n",
            "Requirement already satisfied: beautifulsoup4 in /usr/local/lib/python3.6/dist-packages (from bs4->requests-html) (4.6.3)\n",
            "Requirement already satisfied: chardet<4,>=3.0.2 in /usr/local/lib/python3.6/dist-packages (from requests->requests-html) (3.0.4)\n",
            "Requirement already satisfied: certifi>=2017.4.17 in /usr/local/lib/python3.6/dist-packages (from requests->requests-html) (2020.11.8)\n",
            "Requirement already satisfied: idna<3,>=2.5 in /usr/local/lib/python3.6/dist-packages (from requests->requests-html) (2.10)\n"
          ],
          "name": "stdout"
        }
      ]
    },
    {
      "cell_type": "code",
      "metadata": {
        "id": "BHf-mqUf6tMH"
      },
      "source": [
        "# Import PyDrive and associated libraries.\n",
        "from pydrive.auth import GoogleAuth\n",
        "from pydrive.drive import GoogleDrive\n",
        "from google.colab import auth\n",
        "from oauth2client.client import GoogleCredentials\n",
        "# This only needs to be done once per notebook."
      ],
      "execution_count": 2,
      "outputs": []
    },
    {
      "cell_type": "code",
      "metadata": {
        "id": "pnb4zKCQ7Njn"
      },
      "source": [
        "# Authenticate and create the PyDrive client.\n",
        "auth.authenticate_user()\n",
        "gauth = GoogleAuth()\n",
        "# This only needs to be done once per notebook."
      ],
      "execution_count": 3,
      "outputs": []
    },
    {
      "cell_type": "code",
      "metadata": {
        "id": "8ZQPFvVrgw3L",
        "colab": {
          "base_uri": "https://localhost:8080/"
        },
        "outputId": "23e0269d-740a-4ce5-9309-12617ff1e131"
      },
      "source": [
        "from google.colab import drive\n",
        "drive.mount('/gdrive')"
      ],
      "execution_count": 4,
      "outputs": [
        {
          "output_type": "stream",
          "text": [
            "Mounted at /gdrive\n"
          ],
          "name": "stdout"
        }
      ]
    },
    {
      "cell_type": "code",
      "metadata": {
        "id": "26Ya7PzZTShf"
      },
      "source": [
        "gauth.credentials = GoogleCredentials.get_application_default()\n",
        "drive = GoogleDrive(gauth)"
      ],
      "execution_count": 5,
      "outputs": []
    },
    {
      "cell_type": "code",
      "metadata": {
        "id": "4iWlpoBbuCQe"
      },
      "source": [
        "from google.cloud import storage"
      ],
      "execution_count": 6,
      "outputs": []
    },
    {
      "cell_type": "code",
      "metadata": {
        "id": "jKa_zQ8dSMVs",
        "colab": {
          "base_uri": "https://localhost:8080/"
        },
        "outputId": "e27e8665-19c8-4320-de6d-6fdb33bb7370"
      },
      "source": [
        "project_id = 'cat-scrapper'\n",
        "!gcloud config set project {project_id}"
      ],
      "execution_count": 7,
      "outputs": [
        {
          "output_type": "stream",
          "text": [
            "Updated property [core/project].\n",
            "\n",
            "\n",
            "To take a quick anonymous survey, run:\n",
            "  $ gcloud survey\n",
            "\n"
          ],
          "name": "stdout"
        }
      ]
    },
    {
      "cell_type": "code",
      "metadata": {
        "id": "L8f9l60lyG9X"
      },
      "source": [
        "bucket_name = 'cat-img'"
      ],
      "execution_count": 8,
      "outputs": []
    },
    {
      "cell_type": "markdown",
      "metadata": {
        "id": "S3LExc4oTYOg"
      },
      "source": [
        ""
      ]
    },
    {
      "cell_type": "code",
      "metadata": {
        "id": "3zPfyjW9_4Mm"
      },
      "source": [
        "session = HTMLSession()"
      ],
      "execution_count": 9,
      "outputs": []
    },
    {
      "cell_type": "code",
      "metadata": {
        "id": "5gemvUBRKIik"
      },
      "source": [
        "def get_page_images(page_num, brand):\n",
        "    \n",
        "    BASE_DIR = '/gdrive'\n",
        "    DOWNLOADS_DIR = os.path.join(BASE_DIR, '/cat_scrapper/data/products/images', brand)\n",
        "    \n",
        "    os.makedirs(DOWNLOADS_DIR, exist_ok=True) \n",
        "    # print(DOWNLOADS_DIR) \n",
        "    \n",
        "    rows = []\n",
        "\n",
        "    # Build paginated URL's  \n",
        "    if page_num == 1:\n",
        "        url = f'https://www.catalyticconverterrecycling.com/carbrand/{brand}'\n",
        "    else:\n",
        "        url = f'https://www.catalyticconverterrecycling.com/carbrand/{brand}/{page_num}'\n",
        "    \n",
        "    # open page and select the images and image metadata \n",
        "    r = session.get(url)\n",
        "\n",
        "    _url = r.html.find('.img-responsive')\n",
        "\n",
        "    # Create a list of all image urls on a page\n",
        "    image_urls = _url[:]\n",
        "\n",
        "    # Iterate over the list of urls\n",
        "    for image_url in image_urls:\n",
        "        base_url = 'https://www.catalyticconverterrecycling.com'\n",
        "\n",
        "        # Scrape image attrs and assign each attr to a variable \n",
        "        i = image_url.attrs\n",
        "\n",
        "        rel_link = i['src']\n",
        "        alt = i['alt']\n",
        "\n",
        "        # Format image attrs into unique identifiers for each image\n",
        "        image_path = f'{base_url}{rel_link}'\n",
        "        image_id = f'{brand}_{alt}.png'\n",
        "   \n",
        "        # Assign each image to a row, containing formatted image data \n",
        "        row = [image_id, image_path, alt]\n",
        "       \n",
        "        # Add each row to the rows list\n",
        "        rows.append(row)\n",
        "        \n",
        "        # Create file identifiers for each image, from the data\n",
        "        dl_file_name = f'{brand}_{alt}.png'\n",
        "        \n",
        "        # format filename to prevent errors reopening \n",
        "        ff_name = dl_file_name.replace(' ','')\n",
        "        f_name = ff_name.replace('/','-')\n",
        "        fname = f_name.strip() \n",
        "        \n",
        "        dl_path = f'{DOWNLOADS_DIR}/{fname}'\n",
        "        \n",
        "        # print(fname, image_path)\n",
        "        \n",
        "        with requests.get(image_path, stream=True) as r:\n",
        "            try:\n",
        "                with open(dl_path, 'wb') as file_obj:\n",
        "                    file_obj.write(r.content)\n",
        "            except:\n",
        "                FileNotFoundError\n",
        "                continue\n",
        "        \n",
        "        ## Todo ##\n",
        "        ## Save data to spreadsheet for visualisation ##\n",
        "\n",
        "\n",
        "        # data = []\n",
        "\n",
        "        # for row in rows:\n",
        "        #     d = dict()\n",
        "\n",
        "        #     d['image_id'] = image_id\n",
        "        #     d['car_maker'] = brand\n",
        "        #     d['image_path'] = image_path\n",
        "    \n",
        "        #     data.append(d)\n",
        "\n",
        "        # df = pd.DataFrame(data)\n",
        " \n",
        "        # source_file_name = f'{dl_path}'\n",
        "        # upload_blob(bucket_name, source_file_name, project='cat-scrapper', content_type='image/png', destination_blob_name=f'{brand}/{fname}')"
      ],
      "execution_count": 10,
      "outputs": []
    },
    {
      "cell_type": "code",
      "metadata": {
        "id": "U4qcJ-qyMdLk"
      },
      "source": [
        "def get_all_page_images(page_num, num_pages, brand):\n",
        "    while page_num <= num_pages:\n",
        "        get_page_images(page_num, brand)\n",
        "        page_num +=1"
      ],
      "execution_count": 11,
      "outputs": []
    },
    {
      "cell_type": "code",
      "metadata": {
        "id": "m0268-Z7U5mP"
      },
      "source": [
        "get_all_page_images(1, 42, 'bmw')\n",
        "get_all_page_images(1, 44, 'chrysler')\n",
        "get_all_page_images(1, 3, 'daewoo')\n",
        "get_all_page_images(1, 4, 'daihatsu')\n",
        "get_all_page_images(1, 151, 'ford')\n",
        "get_all_page_images(1, 8, 'hino')\n",
        "get_all_page_images(1, 22, 'honda')\n",
        "get_all_page_images(1, 10, 'jaguar')\n",
        "get_all_page_images(1, 30, 'mazda')\n",
        "get_all_page_images(1, 36, 'mitsubishi')\n",
        "get_all_page_images(1, 50, 'nissan')\n",
        "get_all_page_images(1, 3, 'paccar')\n",
        "get_all_page_images(1, 3, 'perodua')\n",
        "get_all_page_images(1, 5, 'peterbilt')\n",
        "get_all_page_images(1, 7, 'porsche')\n",
        "get_all_page_images(1, 33, 'renault')\n",
        "get_all_page_images(1, 3, 'rover')\n",
        "get_all_page_images(1, 4, 'saab')\n",
        "get_all_page_images(1, 3, 'ssangyong')\n",
        "get_all_page_images(1, 15, 'subaru')\n",
        "get_all_page_images(1, 12, 'suzuki')\n",
        "get_all_page_images(1, 71, 'toyota')\n",
        "get_all_page_images(1, 24, 'volvo')\n",
        "get_all_page_images(1, 9, 'walker')"
      ],
      "execution_count": 12,
      "outputs": []
    },
    {
      "cell_type": "code",
      "metadata": {
        "id": "7vBXj8n2UbTx"
      },
      "source": [
        "get_all_page_images(1, 89, \"gm\")\n",
        "get_all_page_images(1, 2, \"mini-cooper\")\n",
        "get_all_page_images(1, 58, \"hyundai\")"
      ],
      "execution_count": 13,
      "outputs": []
    },
    {
      "cell_type": "code",
      "metadata": {
        "id": "BY1UM8XGd-Zy"
      },
      "source": [
        "get_all_page_images(1, 11, \"land-rover\")"
      ],
      "execution_count": 14,
      "outputs": []
    },
    {
      "cell_type": "code",
      "metadata": {
        "id": "5tdmqocng7pq"
      },
      "source": [
        "get_all_page_images(1, 86, \"audi-volkswagen\")"
      ],
      "execution_count": 15,
      "outputs": []
    },
    {
      "cell_type": "code",
      "metadata": {
        "id": "_HVOlKBFhpRv"
      },
      "source": [
        "get_all_page_images(1, 33, \"peugeot-citroen\")"
      ],
      "execution_count": 16,
      "outputs": []
    },
    {
      "cell_type": "code",
      "metadata": {
        "id": "KY_m6z0FhLYJ"
      },
      "source": [
        "get_all_page_images(1, 36, \"mercedes\")"
      ],
      "execution_count": 17,
      "outputs": []
    },
    {
      "cell_type": "code",
      "metadata": {
        "id": "zi63XWlSikYT"
      },
      "source": [
        "get_all_page_images(1, 40, \"fiat-alfa-romeo\")"
      ],
      "execution_count": 18,
      "outputs": []
    },
    {
      "cell_type": "code",
      "metadata": {
        "id": "OrziBiSliNBT"
      },
      "source": [
        "get_all_page_images(1, 17, \"vauxhal\")"
      ],
      "execution_count": 19,
      "outputs": []
    },
    {
      "cell_type": "code",
      "metadata": {
        "id": "myTsKk2dq3LR"
      },
      "source": [
        "get_all_page_images(1, 1, \"mack-trucks\")"
      ],
      "execution_count": 20,
      "outputs": []
    },
    {
      "cell_type": "code",
      "metadata": {
        "id": "F0iEcLBZrJC5"
      },
      "source": [
        "get_all_page_images(1, 1, \"rolls-royce\")"
      ],
      "execution_count": 21,
      "outputs": []
    },
    {
      "cell_type": "code",
      "metadata": {
        "id": "XmfY1m6OrIk0"
      },
      "source": [
        "get_all_page_images(1, 2, \"freightliner-trucks\")"
      ],
      "execution_count": 22,
      "outputs": []
    },
    {
      "cell_type": "code",
      "metadata": {
        "id": "5kRs_KH_sFyK"
      },
      "source": [
        "get_all_page_images(1, 8, \"international-trucks\")"
      ],
      "execution_count": 23,
      "outputs": []
    },
    {
      "cell_type": "code",
      "metadata": {
        "id": "0MRyuQySgY_J"
      },
      "source": [
        "get_all_page_images(1, 1, \"great-wall-motors\")"
      ],
      "execution_count": 24,
      "outputs": []
    },
    {
      "cell_type": "code",
      "metadata": {
        "id": "rR8t2EBVd_AV"
      },
      "source": [
        "get_all_page_images(1, 1, \"daf-trucks\")"
      ],
      "execution_count": 25,
      "outputs": []
    },
    {
      "cell_type": "code",
      "metadata": {
        "id": "pqJ6kwRUTKQi"
      },
      "source": [
        "get_all_page_images(1, 1, \"kenworth\")\n",
        "get_all_page_images(1, 1, \"proton\")\n",
        "get_all_page_images(1, 1, \"ldv\")\n",
        "get_all_page_images(1, 1, \"chery\")\n",
        "get_all_page_images(1, 1, \"smart\")\n",
        "get_all_page_images(1, 1, \"fuso\")\n",
        "get_all_page_images(1, 1, \"seat\")\n",
        "get_all_page_images(1, 1, \"ferrari\")\n",
        "get_all_page_images(1, 1, \"isuzu\")\n",
        "get_all_page_images(1, 1, \"skoda\")\n",
        "get_all_page_images(1, 1, \"maserati\")\n",
        "get_all_page_images(1, 1, \"tata\")\n",
        "get_all_page_images(1, 1, \"lamborghini\")\n",
        "get_all_page_images(1, 1, \"iveco\")\n",
        "get_all_page_images(1, 1, \"naza\")"
      ],
      "execution_count": 26,
      "outputs": []
    },
    {
      "cell_type": "code",
      "metadata": {
        "id": "qip5tkj-LxCT"
      },
      "source": [
        "!mv /cat_scrapper /gdrive/MyDrive"
      ],
      "execution_count": 27,
      "outputs": []
    },
    {
      "cell_type": "code",
      "metadata": {
        "id": "BoitPcuCjWD_"
      },
      "source": [
        "# \"\"\" Building single page urls, by converting the lists to sets, to remove duplicates,\n",
        "# then merging the entire brand set with the previously extracted multipage brand set. \n",
        "# Finally the refactored set is converted back into a list for other data manipulation tasks \"\"\"\n",
        "\n",
        "# long = [\n",
        "#     'BMW',\n",
        "#     'Chery',\n",
        "#     'Chrysler',\n",
        "#     'Daewoo',    \n",
        "#     'DAF%Trucks',\n",
        "#     'Daihatsu',\n",
        "#     'Ferrari',\n",
        "#     #'Fiat-Alfa',\n",
        "#     'Ford',\n",
        "#     #'Freightliner%Trucks',\n",
        "#     'FUSO',\n",
        "#     #'gm',\n",
        "#     'Great%Wall%Motors',\n",
        "#     'Hino',\n",
        "#     'Honda',\n",
        "#     #'Hyundai',\n",
        "#    # 'International%Trucks',\n",
        "#     'Isuzu',\n",
        "#     'Iveco',\n",
        "#     'Jaguar',\n",
        "#     'Kenworth',\n",
        "#     'Lamborghini',\n",
        "#     #'Land%Rover',\n",
        "#     'LDV',\n",
        "#     'Mack%Trucks',\n",
        "#     'Maserati',\n",
        "#     'Mazda',\n",
        "#     #'Mercedes',\n",
        "#     #'MG%Motor',\n",
        "#     #'Mini%Cooper',\n",
        "#     'Mitsubishi',\n",
        "#     'Naza',\n",
        "#     'Nissan',\n",
        "#     #'Vauxhal',\n",
        "#     'Paccar',\n",
        "#     'Perodua',\n",
        "#     'Peterbilt',\n",
        "#     #'Peugeot%Citroen',\n",
        "#     'Porsche',\n",
        "#     'Proton',\n",
        "#     'Renault',\n",
        "#     'Rolls%Royce',\n",
        "#     'Rover',\n",
        "#     'Saab',\n",
        "#     'Seat',\n",
        "#     'Skoda',\n",
        "#     'Smart',\n",
        "#     'Ssangyong',\n",
        "#     'Subaru',\n",
        "#     'Suzuki',\n",
        "#     'Tata',\n",
        "#     'Toyota',\n",
        "#    # 'Audi-Volkswagen',\n",
        "#     'Volvo',\n",
        "#     'Walker'\n",
        "# ]\n",
        "\n",
        "# short = [\n",
        "#     'bmw',\n",
        "#     'chrysler',\n",
        "#     'daewoo',\n",
        "#     'daihatsu',\n",
        "#     'ford',\n",
        "#     'hino',\n",
        "#     'honda',\n",
        "#     'jaguar',\n",
        "#     'mazda',\n",
        "#     'mitsubishi',\n",
        "#     'nissan',\n",
        "#     'paccar',\n",
        "#     'perodua',\n",
        "#     'peterbilt',\n",
        "#     'porsche',\n",
        "#     'renault',\n",
        "#     'rover',\n",
        "#     'saab',\n",
        "#     'ssangyong',\n",
        "#     'subaru',\n",
        "#     'suzuki',\n",
        "#     'toyota',\n",
        "#     'volvo',\n",
        "#     'walker',\n",
        "# ]\n",
        "\n",
        "# def single_page_list():\n",
        "#     short_list = []\n",
        "#     long_list = []\n",
        "#     for j in short:\n",
        "#         short_list.append(j)\n",
        "#     for i in long:\n",
        "#         i = i.lower().replace('%', '-')\n",
        "#         long_list.append(i)\n",
        "    \n",
        "#     long_set = set(long_list)\n",
        "#     short_set = set(short_list)\n",
        "    \n",
        "#     odd_list = list(long_set - short_set)\n",
        "    \n",
        "#     for item in odd_list:\n",
        "#         if '-' in item:\n",
        "#             print(f'get_all_page_images(1, 1, \"{item}\")')\n",
        "\n",
        "#     # for item in odd_list:\n",
        "#     #     if '%' in item:\n",
        "#     #         deldir = f'/cat_scrapper/data/products/images/{item}'\n",
        "#     #         print('!rm -rf', deldir)\n",
        "#     #         !rm -rf ${deldir\n",
        "    "
      ],
      "execution_count": 28,
      "outputs": []
    },
    {
      "cell_type": "code",
      "metadata": {
        "id": "Sq-7y_O9W1KZ"
      },
      "source": [
        "#single_page_list()"
      ],
      "execution_count": 29,
      "outputs": []
    }
  ]
}